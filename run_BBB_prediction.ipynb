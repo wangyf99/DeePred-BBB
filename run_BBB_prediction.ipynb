{
 "cells": [
  {
   "cell_type": "code",
   "execution_count": 18,
   "id": "70f20773-18c7-4c56-97eb-f3e38d194720",
   "metadata": {},
   "outputs": [
    {
     "ename": "SyntaxError",
     "evalue": "invalid syntax (3577365975.py, line 1)",
     "output_type": "error",
     "traceback": [
      "\u001b[0;36m  Cell \u001b[0;32mIn[18], line 1\u001b[0;36m\u001b[0m\n\u001b[0;31m    python DeePred-BBB_Script.py\u001b[0m\n\u001b[0m           ^\u001b[0m\n\u001b[0;31mSyntaxError\u001b[0m\u001b[0;31m:\u001b[0m invalid syntax\n"
     ]
    }
   ],
   "source": [
    "python DeePred-BBB_Script.py"
   ]
  },
  {
   "cell_type": "code",
   "execution_count": 14,
   "id": "74408392-0cf7-445e-81a4-a107d152d2de",
   "metadata": {},
   "outputs": [
    {
     "name": "stdout",
     "output_type": "stream",
     "text": [
      "Descriptor calculation completed in 1.32 secs . Average speed: 1.03 s/mol.\n",
      "Features calculated\n",
      "/opt/anaconda3/lib/python3.11/site-packages/keras/src/layers/regularization/dropout.py:42: UserWarning: Do not pass an `input_shape`/`input_dim` argument to a layer. When using Sequential models, prefer using an `Input(shape)` object as the first layer in the model instead.\n",
      "  super().__init__(**kwargs)\n",
      "/opt/anaconda3/lib/python3.11/site-packages/keras/src/layers/core/dense.py:87: UserWarning: Do not pass an `input_shape`/`input_dim` argument to a layer. When using Sequential models, prefer using an `Input(shape)` object as the first layer in the model instead.\n",
      "  super().__init__(activity_regularizer=activity_regularizer, **kwargs)\n",
      "WARNING:absl:No training configuration found in the save file, so the model was *not* compiled. Compile it manually.\n",
      "\u001b[1mModel: \"sequential_10\"\u001b[0m\n",
      "┏━━━━━━━━━━━━━━━━━━━━━━━━━━━━━━━━━┳━━━━━━━━━━━━━━━━━━━━━━━━┳━━━━━━━━━━━━━━━┓\n",
      "┃\u001b[1m \u001b[0m\u001b[1mLayer (type)                   \u001b[0m\u001b[1m \u001b[0m┃\u001b[1m \u001b[0m\u001b[1mOutput Shape          \u001b[0m\u001b[1m \u001b[0m┃\u001b[1m \u001b[0m\u001b[1m      Param #\u001b[0m\u001b[1m \u001b[0m┃\n",
      "┡━━━━━━━━━━━━━━━━━━━━━━━━━━━━━━━━━╇━━━━━━━━━━━━━━━━━━━━━━━━╇━━━━━━━━━━━━━━━┩\n",
      "│ dropout_26 (\u001b[94mDropout\u001b[0m)            │ (\u001b[96mNone\u001b[0m, \u001b[96mNone\u001b[0m, \u001b[32m1917\u001b[0m)     │             \u001b[32m0\u001b[0m │\n",
      "├─────────────────────────────────┼────────────────────────┼───────────────┤\n",
      "│ dense_26 (\u001b[94mDense\u001b[0m)                │ (\u001b[96mNone\u001b[0m, \u001b[96mNone\u001b[0m, \u001b[32m200\u001b[0m)      │       \u001b[32m383,600\u001b[0m │\n",
      "├─────────────────────────────────┼────────────────────────┼───────────────┤\n",
      "│ batch_normalization_17          │ (\u001b[96mNone\u001b[0m, \u001b[96mNone\u001b[0m, \u001b[32m200\u001b[0m)      │           \u001b[32m800\u001b[0m │\n",
      "│ (\u001b[94mBatchNormalization\u001b[0m)            │                        │               │\n",
      "├─────────────────────────────────┼────────────────────────┼───────────────┤\n",
      "│ dropout_27 (\u001b[94mDropout\u001b[0m)            │ (\u001b[96mNone\u001b[0m, \u001b[96mNone\u001b[0m, \u001b[32m200\u001b[0m)      │             \u001b[32m0\u001b[0m │\n",
      "├─────────────────────────────────┼────────────────────────┼───────────────┤\n",
      "│ dense_27 (\u001b[94mDense\u001b[0m)                │ (\u001b[96mNone\u001b[0m, \u001b[96mNone\u001b[0m, \u001b[32m2\u001b[0m)        │           \u001b[32m402\u001b[0m │\n",
      "└─────────────────────────────────┴────────────────────────┴───────────────┘\n",
      "\u001b[1m Total params: \u001b[0m\u001b[32m384,802\u001b[0m (1.47 MB)\n",
      "\u001b[1m Trainable params: \u001b[0m\u001b[32m384,402\u001b[0m (1.47 MB)\n",
      "\u001b[1m Non-trainable params: \u001b[0m\u001b[32m400\u001b[0m (1.56 KB)\n",
      "None\n",
      "Model loaded\n",
      "\u001b[1m1/1\u001b[0m \u001b[32m━━━━━━━━━━━━━━━━━━━━\u001b[0m\u001b[37m\u001b[0m \u001b[1m0s\u001b[0m 20ms/step\n"
     ]
    }
   ],
   "source": [
    "!python DeePred-BBB_Script.py"
   ]
  },
  {
   "cell_type": "code",
   "execution_count": 2,
   "id": "7d32126c-4e20-451d-9ec8-60a30f2dca1a",
   "metadata": {},
   "outputs": [],
   "source": [
    "import pandas as pd"
   ]
  },
  {
   "cell_type": "code",
   "execution_count": 5,
   "id": "0270a9e7-465e-47fe-86f4-4b13948f262a",
   "metadata": {},
   "outputs": [
    {
     "name": "stdout",
     "output_type": "stream",
     "text": [
      "Requirement already satisfied: h5py in /opt/anaconda3/lib/python3.11/site-packages (3.11.0)\n",
      "Requirement already satisfied: numpy>=1.17.3 in /opt/anaconda3/lib/python3.11/site-packages (from h5py) (1.26.4)\n",
      "Note: you may need to restart the kernel to use updated packages.\n"
     ]
    }
   ],
   "source": [
    "pip install h5py"
   ]
  },
  {
   "cell_type": "code",
   "execution_count": 6,
   "id": "a92e41aa-ecd7-427e-b9b1-8725d0ad925f",
   "metadata": {},
   "outputs": [
    {
     "name": "stdout",
     "output_type": "stream",
     "text": [
      "model_weights\n",
      "model_weights/batch_normalization_17\n",
      "model_weights/batch_normalization_17/batch_normalization_17\n",
      "model_weights/batch_normalization_17/batch_normalization_17/beta:0\n",
      "model_weights/batch_normalization_17/batch_normalization_17/gamma:0\n",
      "model_weights/batch_normalization_17/batch_normalization_17/moving_mean:0\n",
      "model_weights/batch_normalization_17/batch_normalization_17/moving_variance:0\n",
      "model_weights/dense_26\n",
      "model_weights/dense_26/dense_26\n",
      "model_weights/dense_26/dense_26/bias:0\n",
      "model_weights/dense_26/dense_26/kernel:0\n",
      "model_weights/dense_27\n",
      "model_weights/dense_27/dense_27\n",
      "model_weights/dense_27/dense_27/bias:0\n",
      "model_weights/dense_27/dense_27/kernel:0\n",
      "model_weights/dropout_26\n",
      "model_weights/dropout_27\n"
     ]
    }
   ],
   "source": [
    "import h5py\n",
    "with h5py.File(\"DeePredmodel.h5\", \"r\") as f:\n",
    "    def printname(name):\n",
    "        print(name)\n",
    "    f.visit(printname)"
   ]
  },
  {
   "cell_type": "code",
   "execution_count": null,
   "id": "65f4c048-c1cd-4542-91c1-f4337660c1ca",
   "metadata": {},
   "outputs": [],
   "source": []
  },
  {
   "cell_type": "code",
   "execution_count": 11,
   "id": "11bda798-84e4-4527-bd11-ea6cccbefb71",
   "metadata": {},
   "outputs": [],
   "source": [
    "import pandas as pd"
   ]
  },
  {
   "cell_type": "code",
   "execution_count": 12,
   "id": "3c6f8bc6-17f1-4053-83fc-0c27ddab9ae5",
   "metadata": {},
   "outputs": [],
   "source": [
    "DeePred_BBB_df = pd.DataFrame([[\"folic acid\", \"CHEMBL1622\"],\n",
    "                              [\"paracetamol\", \"CHEMBL112\"]], columns = [\"Name\", \"ChEMBL\"])"
   ]
  },
  {
   "cell_type": "code",
   "execution_count": 14,
   "id": "0657aa26-6f18-4397-baa2-0e8696d42299",
   "metadata": {},
   "outputs": [],
   "source": [
    "DeePred_BBB_df.to_csv(\"PaDEL_features.csv\")"
   ]
  },
  {
   "cell_type": "code",
   "execution_count": 17,
   "id": "e2cc1890-fa45-49da-b448-19c1eecf5dc4",
   "metadata": {},
   "outputs": [
    {
     "data": {
      "text/html": [
       "<div>\n",
       "<style scoped>\n",
       "    .dataframe tbody tr th:only-of-type {\n",
       "        vertical-align: middle;\n",
       "    }\n",
       "\n",
       "    .dataframe tbody tr th {\n",
       "        vertical-align: top;\n",
       "    }\n",
       "\n",
       "    .dataframe thead th {\n",
       "        text-align: right;\n",
       "    }\n",
       "</style>\n",
       "<table border=\"1\" class=\"dataframe\">\n",
       "  <thead>\n",
       "    <tr style=\"text-align: right;\">\n",
       "      <th></th>\n",
       "      <th>[F]/C2=C/C=1ON=C(C=1C=C2)[C@@]5([H])CCN(CCC=4C(=O)N3CCC[C@@](O)([H])C3=NC=4C)CC5 test</th>\n",
       "    </tr>\n",
       "  </thead>\n",
       "  <tbody>\n",
       "  </tbody>\n",
       "</table>\n",
       "</div>"
      ],
      "text/plain": [
       "Empty DataFrame\n",
       "Columns: [[F]/C2=C/C=1ON=C(C=1C=C2)[C@@]5([H])CCN(CCC=4C(=O)N3CCC[C@@](O)([H])C3=NC=4C)CC5 test]\n",
       "Index: []"
      ]
     },
     "execution_count": 17,
     "metadata": {},
     "output_type": "execute_result"
    }
   ],
   "source": [
    "pd.read_csv(\"smiles.smi\")"
   ]
  },
  {
   "cell_type": "code",
   "execution_count": null,
   "id": "387f4b87-7cea-4cbf-8b97-cdab6aab02aa",
   "metadata": {},
   "outputs": [],
   "source": []
  }
 ],
 "metadata": {
  "kernelspec": {
   "display_name": "Python 3 (ipykernel)",
   "language": "python",
   "name": "python3"
  },
  "language_info": {
   "codemirror_mode": {
    "name": "ipython",
    "version": 3
   },
   "file_extension": ".py",
   "mimetype": "text/x-python",
   "name": "python",
   "nbconvert_exporter": "python",
   "pygments_lexer": "ipython3",
   "version": "3.11.7"
  }
 },
 "nbformat": 4,
 "nbformat_minor": 5
}
