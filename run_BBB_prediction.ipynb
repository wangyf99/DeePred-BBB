{
 "cells": [
  {
   "cell_type": "code",
   "execution_count": 15,
   "id": "74408392-0cf7-445e-81a4-a107d152d2de",
   "metadata": {},
   "outputs": [
    {
     "name": "stdout",
     "output_type": "stream",
     "text": [
      "The operation couldn’t be completed. Unable to locate a Java Runtime.\n",
      "Please visit http://www.java.com for information on installing Java.\n",
      "\n",
      "Features calculated\n",
      "Traceback (most recent call last):\n",
      "  File \"/Users/alexwang/Documents/GitHub/DeePred-BBB/DeePred-BBB_Script.py\", line 104, in <module>\n",
      "    run_prediction(path)        \n",
      "    ^^^^^^^^^^^^^^^^^^^^\n",
      "  File \"/Users/alexwang/Documents/GitHub/DeePred-BBB/DeePred-BBB_Script.py\", line 83, in run_prediction\n",
      "    pred = bbb(input_bbb)\n",
      "           ^^^^^^^^^^^^^^\n",
      "  File \"/Users/alexwang/Documents/GitHub/DeePred-BBB/DeePred-BBB_Script.py\", line 42, in bbb\n",
      "    bbb_user_input = scaler.transform(input_bbb.to_numpy())\n",
      "                     ^^^^^^^^^^^^^^^^^^^^^^^^^^^^^^^^^^^^^^\n",
      "  File \"/opt/anaconda3/lib/python3.11/site-packages/sklearn/utils/_set_output.py\", line 140, in wrapped\n",
      "    data_to_wrap = f(self, X, *args, **kwargs)\n",
      "                   ^^^^^^^^^^^^^^^^^^^^^^^^^^^\n",
      "  File \"/opt/anaconda3/lib/python3.11/site-packages/sklearn/preprocessing/_data.py\", line 992, in transform\n",
      "    X = self._validate_data(\n",
      "        ^^^^^^^^^^^^^^^^^^^^\n",
      "  File \"/opt/anaconda3/lib/python3.11/site-packages/sklearn/base.py\", line 565, in _validate_data\n",
      "    X = check_array(X, input_name=\"X\", **check_params)\n",
      "        ^^^^^^^^^^^^^^^^^^^^^^^^^^^^^^^^^^^^^^^^^^^^^^\n",
      "  File \"/opt/anaconda3/lib/python3.11/site-packages/sklearn/utils/validation.py\", line 879, in check_array\n",
      "    array = _asarray_with_order(array, order=order, dtype=dtype, xp=xp)\n",
      "            ^^^^^^^^^^^^^^^^^^^^^^^^^^^^^^^^^^^^^^^^^^^^^^^^^^^^^^^^^^^\n",
      "  File \"/opt/anaconda3/lib/python3.11/site-packages/sklearn/utils/_array_api.py\", line 185, in _asarray_with_order\n",
      "    array = numpy.asarray(array, order=order, dtype=dtype)\n",
      "            ^^^^^^^^^^^^^^^^^^^^^^^^^^^^^^^^^^^^^^^^^^^^^^\n",
      "ValueError: could not convert string to float: 'CHEMBL1622'\n"
     ]
    }
   ],
   "source": [
    "!python DeePred-BBB_Script.py"
   ]
  },
  {
   "cell_type": "code",
   "execution_count": 11,
   "id": "11bda798-84e4-4527-bd11-ea6cccbefb71",
   "metadata": {},
   "outputs": [],
   "source": [
    "import pandas as pd"
   ]
  },
  {
   "cell_type": "code",
   "execution_count": 12,
   "id": "3c6f8bc6-17f1-4053-83fc-0c27ddab9ae5",
   "metadata": {},
   "outputs": [],
   "source": [
    "DeePred_BBB_df = pd.DataFrame([[\"folic acid\", \"CHEMBL1622\"],\n",
    "                              [\"paracetamol\", \"CHEMBL112\"]], columns = [\"Name\", \"ChEMBL\"])"
   ]
  },
  {
   "cell_type": "code",
   "execution_count": 14,
   "id": "0657aa26-6f18-4397-baa2-0e8696d42299",
   "metadata": {},
   "outputs": [],
   "source": [
    "DeePred_BBB_df.to_csv(\"PaDEL_features.csv\")"
   ]
  },
  {
   "cell_type": "code",
   "execution_count": 17,
   "id": "e2cc1890-fa45-49da-b448-19c1eecf5dc4",
   "metadata": {},
   "outputs": [
    {
     "data": {
      "text/html": [
       "<div>\n",
       "<style scoped>\n",
       "    .dataframe tbody tr th:only-of-type {\n",
       "        vertical-align: middle;\n",
       "    }\n",
       "\n",
       "    .dataframe tbody tr th {\n",
       "        vertical-align: top;\n",
       "    }\n",
       "\n",
       "    .dataframe thead th {\n",
       "        text-align: right;\n",
       "    }\n",
       "</style>\n",
       "<table border=\"1\" class=\"dataframe\">\n",
       "  <thead>\n",
       "    <tr style=\"text-align: right;\">\n",
       "      <th></th>\n",
       "      <th>[F]/C2=C/C=1ON=C(C=1C=C2)[C@@]5([H])CCN(CCC=4C(=O)N3CCC[C@@](O)([H])C3=NC=4C)CC5 test</th>\n",
       "    </tr>\n",
       "  </thead>\n",
       "  <tbody>\n",
       "  </tbody>\n",
       "</table>\n",
       "</div>"
      ],
      "text/plain": [
       "Empty DataFrame\n",
       "Columns: [[F]/C2=C/C=1ON=C(C=1C=C2)[C@@]5([H])CCN(CCC=4C(=O)N3CCC[C@@](O)([H])C3=NC=4C)CC5 test]\n",
       "Index: []"
      ]
     },
     "execution_count": 17,
     "metadata": {},
     "output_type": "execute_result"
    }
   ],
   "source": [
    "pd.read_csv(\"smiles.smi\")"
   ]
  },
  {
   "cell_type": "code",
   "execution_count": null,
   "id": "387f4b87-7cea-4cbf-8b97-cdab6aab02aa",
   "metadata": {},
   "outputs": [],
   "source": []
  }
 ],
 "metadata": {
  "kernelspec": {
   "display_name": "Python 3 (ipykernel)",
   "language": "python",
   "name": "python3"
  },
  "language_info": {
   "codemirror_mode": {
    "name": "ipython",
    "version": 3
   },
   "file_extension": ".py",
   "mimetype": "text/x-python",
   "name": "python",
   "nbconvert_exporter": "python",
   "pygments_lexer": "ipython3",
   "version": "3.11.7"
  }
 },
 "nbformat": 4,
 "nbformat_minor": 5
}
