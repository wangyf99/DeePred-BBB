{
 "cells": [
  {
   "cell_type": "code",
   "execution_count": 18,
   "id": "70f20773-18c7-4c56-97eb-f3e38d194720",
   "metadata": {},
   "outputs": [
    {
     "ename": "SyntaxError",
     "evalue": "invalid syntax (3577365975.py, line 1)",
     "output_type": "error",
     "traceback": [
      "\u001b[0;36m  Cell \u001b[0;32mIn[18], line 1\u001b[0;36m\u001b[0m\n\u001b[0;31m    python DeePred-BBB_Script.py\u001b[0m\n\u001b[0m           ^\u001b[0m\n\u001b[0;31mSyntaxError\u001b[0m\u001b[0;31m:\u001b[0m invalid syntax\n"
     ]
    }
   ],
   "source": [
    "python DeePred-BBB_Script.py"
   ]
  },
  {
   "cell_type": "code",
   "execution_count": 54,
   "id": "74408392-0cf7-445e-81a4-a107d152d2de",
   "metadata": {},
   "outputs": [
    {
     "name": "stdout",
     "output_type": "stream",
     "text": [
      "Descriptor calculation completed in 0.109 secs . Average speed: ∞ s/mol.\n",
      "Features calculated\n",
      "Empty DataFrame\n",
      "Columns: [nAcid, ALogP, ALogp2, AMR, apol, naAromAtom, nAromBond, nAtom, nHeavyAtom, nH, nB, nC, nN, nO, nS, nP, nF, nCl, nBr, nI, nX, ATS0m, ATS1m, ATS2m, ATS3m, ATS4m, ATS5m, ATS6m, ATS7m, ATS8m, ATS0v, ATS1v, ATS2v, ATS3v, ATS4v, ATS5v, ATS6v, ATS7v, ATS8v, ATS0e, ATS1e, ATS2e, ATS3e, ATS4e, ATS5e, ATS6e, ATS7e, ATS8e, ATS0p, ATS1p, ATS2p, ATS3p, ATS4p, ATS5p, ATS6p, ATS7p, ATS8p, ATS0i, ATS1i, ATS2i, ATS3i, ATS4i, ATS5i, ATS6i, ATS7i, ATS8i, ATS0s, ATS1s, ATS2s, ATS3s, ATS4s, ATS5s, ATS6s, ATS7s, ATS8s, AATS0m, AATS1m, AATS2m, AATS3m, AATS4m, AATS5m, AATS6m, AATS7m, AATS8m, AATS0v, AATS1v, AATS2v, AATS3v, AATS4v, AATS5v, AATS6v, AATS7v, AATS8v, AATS0e, AATS1e, AATS2e, AATS3e, AATS4e, AATS5e, AATS6e, ...]\n",
      "Index: []\n",
      "\n",
      "[0 rows x 1917 columns]\n",
      "Traceback (most recent call last):\n",
      "  File \"/Users/alexwang/Documents/GitHub/DeePred-BBB/DeePred-BBB_Script.py\", line 120, in <module>\n",
      "    run_prediction(path)        \n",
      "    ^^^^^^^^^^^^^^^^^^^^\n",
      "  File \"/Users/alexwang/Documents/GitHub/DeePred-BBB/DeePred-BBB_Script.py\", line 99, in run_prediction\n",
      "    pred = bbb(input_bbb)\n",
      "           ^^^^^^^^^^^^^^\n",
      "  File \"/Users/alexwang/Documents/GitHub/DeePred-BBB/DeePred-BBB_Script.py\", line 42, in bbb\n",
      "    bbb_user_input = scaler.transform(input_bbb.to_numpy())\n",
      "                     ^^^^^^^^^^^^^^^^^^^^^^^^^^^^^^^^^^^^^^\n",
      "  File \"/opt/anaconda3/lib/python3.11/site-packages/sklearn/utils/_set_output.py\", line 140, in wrapped\n",
      "    data_to_wrap = f(self, X, *args, **kwargs)\n",
      "                   ^^^^^^^^^^^^^^^^^^^^^^^^^^^\n",
      "  File \"/opt/anaconda3/lib/python3.11/site-packages/sklearn/preprocessing/_data.py\", line 992, in transform\n",
      "    X = self._validate_data(\n",
      "        ^^^^^^^^^^^^^^^^^^^^\n",
      "  File \"/opt/anaconda3/lib/python3.11/site-packages/sklearn/base.py\", line 565, in _validate_data\n",
      "    X = check_array(X, input_name=\"X\", **check_params)\n",
      "        ^^^^^^^^^^^^^^^^^^^^^^^^^^^^^^^^^^^^^^^^^^^^^^\n",
      "  File \"/opt/anaconda3/lib/python3.11/site-packages/sklearn/utils/validation.py\", line 931, in check_array\n",
      "    raise ValueError(\n",
      "ValueError: Found array with 0 sample(s) (shape=(0, 1917)) while a minimum of 1 is required by StandardScaler.\n"
     ]
    }
   ],
   "source": [
    "!python DeePred-BBB_Script.py"
   ]
  },
  {
   "cell_type": "code",
   "execution_count": 2,
   "id": "7d32126c-4e20-451d-9ec8-60a30f2dca1a",
   "metadata": {},
   "outputs": [],
   "source": [
    "import pandas as pd"
   ]
  },
  {
   "cell_type": "code",
   "execution_count": 5,
   "id": "0270a9e7-465e-47fe-86f4-4b13948f262a",
   "metadata": {},
   "outputs": [
    {
     "name": "stdout",
     "output_type": "stream",
     "text": [
      "Requirement already satisfied: h5py in /opt/anaconda3/lib/python3.11/site-packages (3.11.0)\n",
      "Requirement already satisfied: numpy>=1.17.3 in /opt/anaconda3/lib/python3.11/site-packages (from h5py) (1.26.4)\n",
      "Note: you may need to restart the kernel to use updated packages.\n"
     ]
    }
   ],
   "source": [
    "pip install h5py"
   ]
  },
  {
   "cell_type": "code",
   "execution_count": 6,
   "id": "a92e41aa-ecd7-427e-b9b1-8725d0ad925f",
   "metadata": {},
   "outputs": [
    {
     "name": "stdout",
     "output_type": "stream",
     "text": [
      "model_weights\n",
      "model_weights/batch_normalization_17\n",
      "model_weights/batch_normalization_17/batch_normalization_17\n",
      "model_weights/batch_normalization_17/batch_normalization_17/beta:0\n",
      "model_weights/batch_normalization_17/batch_normalization_17/gamma:0\n",
      "model_weights/batch_normalization_17/batch_normalization_17/moving_mean:0\n",
      "model_weights/batch_normalization_17/batch_normalization_17/moving_variance:0\n",
      "model_weights/dense_26\n",
      "model_weights/dense_26/dense_26\n",
      "model_weights/dense_26/dense_26/bias:0\n",
      "model_weights/dense_26/dense_26/kernel:0\n",
      "model_weights/dense_27\n",
      "model_weights/dense_27/dense_27\n",
      "model_weights/dense_27/dense_27/bias:0\n",
      "model_weights/dense_27/dense_27/kernel:0\n",
      "model_weights/dropout_26\n",
      "model_weights/dropout_27\n"
     ]
    }
   ],
   "source": [
    "import h5py\n",
    "with h5py.File(\"DeePredmodel.h5\", \"r\") as f:\n",
    "    def printname(name):\n",
    "        print(name)\n",
    "    f.visit(printname)"
   ]
  },
  {
   "cell_type": "code",
   "execution_count": null,
   "id": "65f4c048-c1cd-4542-91c1-f4337660c1ca",
   "metadata": {},
   "outputs": [],
   "source": []
  },
  {
   "cell_type": "code",
   "execution_count": 11,
   "id": "11bda798-84e4-4527-bd11-ea6cccbefb71",
   "metadata": {},
   "outputs": [],
   "source": [
    "import pandas as pd"
   ]
  },
  {
   "cell_type": "code",
   "execution_count": 12,
   "id": "3c6f8bc6-17f1-4053-83fc-0c27ddab9ae5",
   "metadata": {},
   "outputs": [],
   "source": [
    "DeePred_BBB_df = pd.DataFrame([[\"folic acid\", \"CHEMBL1622\"],\n",
    "                              [\"paracetamol\", \"CHEMBL112\"]], columns = [\"Name\", \"ChEMBL\"])"
   ]
  },
  {
   "cell_type": "code",
   "execution_count": 14,
   "id": "0657aa26-6f18-4397-baa2-0e8696d42299",
   "metadata": {},
   "outputs": [],
   "source": [
    "DeePred_BBB_df.to_csv(\"PaDEL_features.csv\")"
   ]
  },
  {
   "cell_type": "code",
   "execution_count": 23,
   "id": "e2cc1890-fa45-49da-b448-19c1eecf5dc4",
   "metadata": {},
   "outputs": [],
   "source": [
    "df = pd.read_csv(\"smiles.smi\", header=None, names = ['SMILES'])"
   ]
  },
  {
   "cell_type": "code",
   "execution_count": 21,
   "id": "387f4b87-7cea-4cbf-8b97-cdab6aab02aa",
   "metadata": {},
   "outputs": [
    {
     "data": {
      "text/plain": [
       "'[F]/C2=C/C=1ON=C(C=1C=C2)[C@@]5([H])CCN(CCC=4C(=O)N3CCC[C@@](O)([H])C3=NC=4C)CC5 test'"
      ]
     },
     "execution_count": 21,
     "metadata": {},
     "output_type": "execute_result"
    }
   ],
   "source": [
    "df.iloc[0, 0]"
   ]
  },
  {
   "cell_type": "code",
   "execution_count": 26,
   "id": "d2b2f825-6d47-4bd2-b3b0-0e03041af393",
   "metadata": {},
   "outputs": [
    {
     "data": {
      "text/html": [
       "<div>\n",
       "<style scoped>\n",
       "    .dataframe tbody tr th:only-of-type {\n",
       "        vertical-align: middle;\n",
       "    }\n",
       "\n",
       "    .dataframe tbody tr th {\n",
       "        vertical-align: top;\n",
       "    }\n",
       "\n",
       "    .dataframe thead th {\n",
       "        text-align: right;\n",
       "    }\n",
       "</style>\n",
       "<table border=\"1\" class=\"dataframe\">\n",
       "  <thead>\n",
       "    <tr style=\"text-align: right;\">\n",
       "      <th></th>\n",
       "      <th>SL</th>\n",
       "      <th>Compounds</th>\n",
       "      <th>PID</th>\n",
       "      <th>BBB-Class</th>\n",
       "      <th>References</th>\n",
       "      <th>Unnamed: 5</th>\n",
       "      <th>Unnamed: 6</th>\n",
       "    </tr>\n",
       "  </thead>\n",
       "  <tbody>\n",
       "    <tr>\n",
       "      <th>0</th>\n",
       "      <td>1</td>\n",
       "      <td>SCC(=O)[C@@]1(O)[C@@]2(C)[C@H]([C@H]3[C@H]([C@...</td>\n",
       "      <td>NaN</td>\n",
       "      <td>1</td>\n",
       "      <td>Roy et al. ACS Omega. 2019; 4(16):16774-16780....</td>\n",
       "      <td>NaN</td>\n",
       "      <td>BBB-Class 1: Permeable</td>\n",
       "    </tr>\n",
       "    <tr>\n",
       "      <th>1</th>\n",
       "      <td>2</td>\n",
       "      <td>s1cc(nc1[NH]=C(N)N)C</td>\n",
       "      <td>6928896</td>\n",
       "      <td>1</td>\n",
       "      <td>Zhao et al.  J Chem Inf Model. 2007;47(1):170–...</td>\n",
       "      <td>NaN</td>\n",
       "      <td>BBB-Class 0: Non-permeable</td>\n",
       "    </tr>\n",
       "    <tr>\n",
       "      <th>2</th>\n",
       "      <td>3</td>\n",
       "      <td>s1cc(CSCCNC(NC)=[NH]C#N)nc1[NH]=C(N)N</td>\n",
       "      <td>NaN</td>\n",
       "      <td>1</td>\n",
       "      <td>Zhao et al.  J Chem Inf Model. 2007;47(1):170–...</td>\n",
       "      <td>NaN</td>\n",
       "      <td>NaN</td>\n",
       "    </tr>\n",
       "    <tr>\n",
       "      <th>3</th>\n",
       "      <td>4</td>\n",
       "      <td>s1c(ncc1)CCN</td>\n",
       "      <td>87653</td>\n",
       "      <td>1</td>\n",
       "      <td>Zhao et al.  J Chem Inf Model. 2007;47(1):170–...</td>\n",
       "      <td>NaN</td>\n",
       "      <td>NaN</td>\n",
       "    </tr>\n",
       "    <tr>\n",
       "      <th>4</th>\n",
       "      <td>5</td>\n",
       "      <td>S=P(N1CC1)(N2CC2)N3CC3</td>\n",
       "      <td>5453</td>\n",
       "      <td>1</td>\n",
       "      <td>Zhao et al.  J Chem Inf Model. 2007;47(1):170–...</td>\n",
       "      <td>NaN</td>\n",
       "      <td>NaN</td>\n",
       "    </tr>\n",
       "    <tr>\n",
       "      <th>...</th>\n",
       "      <td>...</td>\n",
       "      <td>...</td>\n",
       "      <td>...</td>\n",
       "      <td>...</td>\n",
       "      <td>...</td>\n",
       "      <td>...</td>\n",
       "      <td>...</td>\n",
       "    </tr>\n",
       "    <tr>\n",
       "      <th>3600</th>\n",
       "      <td>3601</td>\n",
       "      <td>[C@H]1(c2ccccc2)[N@]2[C@@H](NC1)NCC2</td>\n",
       "      <td>NaN</td>\n",
       "      <td>1</td>\n",
       "      <td>Roy et al. ACS Omega. 2019; 4(16):16774-16780....</td>\n",
       "      <td>NaN</td>\n",
       "      <td>NaN</td>\n",
       "    </tr>\n",
       "    <tr>\n",
       "      <th>3601</th>\n",
       "      <td>3602</td>\n",
       "      <td>[C@H]1([C@@H]2NCCCC2)OC(c2ccccc2)(c2ccccc2)OC1</td>\n",
       "      <td>14208378</td>\n",
       "      <td>1</td>\n",
       "      <td>Roy et al. ACS Omega. 2019; 4(16):16774-16780....</td>\n",
       "      <td>NaN</td>\n",
       "      <td>NaN</td>\n",
       "    </tr>\n",
       "    <tr>\n",
       "      <th>3602</th>\n",
       "      <td>3603</td>\n",
       "      <td>[C@H](CCC)(Cc1ccccc1)N1CCCC1</td>\n",
       "      <td>54153082</td>\n",
       "      <td>1</td>\n",
       "      <td>Roy et al. ACS Omega. 2019; 4(16):16774-16780....</td>\n",
       "      <td>NaN</td>\n",
       "      <td>NaN</td>\n",
       "    </tr>\n",
       "    <tr>\n",
       "      <th>3603</th>\n",
       "      <td>3604</td>\n",
       "      <td>[C@H](CCC)(CC)C</td>\n",
       "      <td>13800357</td>\n",
       "      <td>1</td>\n",
       "      <td>Roy et al. ACS Omega. 2019; 4(16):16774-16780....</td>\n",
       "      <td>NaN</td>\n",
       "      <td>NaN</td>\n",
       "    </tr>\n",
       "    <tr>\n",
       "      <th>3604</th>\n",
       "      <td>3605</td>\n",
       "      <td>[C@H](C)(n1c(C)ncc1)c1ccccc1</td>\n",
       "      <td>76960079</td>\n",
       "      <td>1</td>\n",
       "      <td>Roy et al. ACS Omega. 2019; 4(16):16774-16780....</td>\n",
       "      <td>NaN</td>\n",
       "      <td>NaN</td>\n",
       "    </tr>\n",
       "  </tbody>\n",
       "</table>\n",
       "<p>3605 rows × 7 columns</p>\n",
       "</div>"
      ],
      "text/plain": [
       "        SL                                          Compounds       PID  \\\n",
       "0        1  SCC(=O)[C@@]1(O)[C@@]2(C)[C@H]([C@H]3[C@H]([C@...       NaN   \n",
       "1        2                               s1cc(nc1[NH]=C(N)N)C   6928896   \n",
       "2        3              s1cc(CSCCNC(NC)=[NH]C#N)nc1[NH]=C(N)N       NaN   \n",
       "3        4                                       s1c(ncc1)CCN     87653   \n",
       "4        5                             S=P(N1CC1)(N2CC2)N3CC3      5453   \n",
       "...    ...                                                ...       ...   \n",
       "3600  3601               [C@H]1(c2ccccc2)[N@]2[C@@H](NC1)NCC2       NaN   \n",
       "3601  3602     [C@H]1([C@@H]2NCCCC2)OC(c2ccccc2)(c2ccccc2)OC1  14208378   \n",
       "3602  3603                       [C@H](CCC)(Cc1ccccc1)N1CCCC1  54153082   \n",
       "3603  3604                                    [C@H](CCC)(CC)C  13800357   \n",
       "3604  3605                       [C@H](C)(n1c(C)ncc1)c1ccccc1  76960079   \n",
       "\n",
       "      BBB-Class                                         References  \\\n",
       "0             1  Roy et al. ACS Omega. 2019; 4(16):16774-16780....   \n",
       "1             1  Zhao et al.  J Chem Inf Model. 2007;47(1):170–...   \n",
       "2             1  Zhao et al.  J Chem Inf Model. 2007;47(1):170–...   \n",
       "3             1  Zhao et al.  J Chem Inf Model. 2007;47(1):170–...   \n",
       "4             1  Zhao et al.  J Chem Inf Model. 2007;47(1):170–...   \n",
       "...         ...                                                ...   \n",
       "3600          1  Roy et al. ACS Omega. 2019; 4(16):16774-16780....   \n",
       "3601          1  Roy et al. ACS Omega. 2019; 4(16):16774-16780....   \n",
       "3602          1  Roy et al. ACS Omega. 2019; 4(16):16774-16780....   \n",
       "3603          1  Roy et al. ACS Omega. 2019; 4(16):16774-16780....   \n",
       "3604          1  Roy et al. ACS Omega. 2019; 4(16):16774-16780....   \n",
       "\n",
       "      Unnamed: 5                  Unnamed: 6  \n",
       "0            NaN      BBB-Class 1: Permeable  \n",
       "1            NaN  BBB-Class 0: Non-permeable  \n",
       "2            NaN                         NaN  \n",
       "3            NaN                         NaN  \n",
       "4            NaN                         NaN  \n",
       "...          ...                         ...  \n",
       "3600         NaN                         NaN  \n",
       "3601         NaN                         NaN  \n",
       "3602         NaN                         NaN  \n",
       "3603         NaN                         NaN  \n",
       "3604         NaN                         NaN  \n",
       "\n",
       "[3605 rows x 7 columns]"
      ]
     },
     "execution_count": 26,
     "metadata": {},
     "output_type": "execute_result"
    }
   ],
   "source": [
    "df = pd.read_excel('Table 1.xlsx')\n",
    "df"
   ]
  },
  {
   "cell_type": "code",
   "execution_count": 27,
   "id": "0bca6e4f-22d2-4e7a-89c0-0cd10e4dc4b9",
   "metadata": {},
   "outputs": [
    {
     "data": {
      "text/plain": [
       "0       SCC(=O)[C@@]1(O)[C@@]2(C)[C@H]([C@H]3[C@H]([C@...\n",
       "1                                    s1cc(nc1[NH]=C(N)N)C\n",
       "2                   s1cc(CSCCNC(NC)=[NH]C#N)nc1[NH]=C(N)N\n",
       "3                                            s1c(ncc1)CCN\n",
       "4                                  S=P(N1CC1)(N2CC2)N3CC3\n",
       "                              ...                        \n",
       "3600                 [C@H]1(c2ccccc2)[N@]2[C@@H](NC1)NCC2\n",
       "3601       [C@H]1([C@@H]2NCCCC2)OC(c2ccccc2)(c2ccccc2)OC1\n",
       "3602                         [C@H](CCC)(Cc1ccccc1)N1CCCC1\n",
       "3603                                      [C@H](CCC)(CC)C\n",
       "3604                         [C@H](C)(n1c(C)ncc1)c1ccccc1\n",
       "Name: Compounds, Length: 3605, dtype: object"
      ]
     },
     "execution_count": 27,
     "metadata": {},
     "output_type": "execute_result"
    }
   ],
   "source": [
    "smi_column = df['Compounds']\n",
    "smi_column"
   ]
  },
  {
   "cell_type": "code",
   "execution_count": 51,
   "id": "7d71b181-256a-4ad9-991e-8da5cf89ffc8",
   "metadata": {},
   "outputs": [],
   "source": [
    "smi_df = pd.DataFrame(smi_column)"
   ]
  },
  {
   "cell_type": "code",
   "execution_count": 52,
   "id": "780bd135-77fb-4dd8-a9a7-416ef3dd7305",
   "metadata": {},
   "outputs": [
    {
     "data": {
      "text/html": [
       "<div>\n",
       "<style scoped>\n",
       "    .dataframe tbody tr th:only-of-type {\n",
       "        vertical-align: middle;\n",
       "    }\n",
       "\n",
       "    .dataframe tbody tr th {\n",
       "        vertical-align: top;\n",
       "    }\n",
       "\n",
       "    .dataframe thead th {\n",
       "        text-align: right;\n",
       "    }\n",
       "</style>\n",
       "<table border=\"1\" class=\"dataframe\">\n",
       "  <thead>\n",
       "    <tr style=\"text-align: right;\">\n",
       "      <th></th>\n",
       "      <th>Compounds</th>\n",
       "    </tr>\n",
       "  </thead>\n",
       "  <tbody>\n",
       "    <tr>\n",
       "      <th>0</th>\n",
       "      <td>SCC(=O)[C@@]1(O)[C@@]2(C)[C@H]([C@H]3[C@H]([C@...</td>\n",
       "    </tr>\n",
       "    <tr>\n",
       "      <th>1</th>\n",
       "      <td>s1cc(nc1[NH]=C(N)N)C</td>\n",
       "    </tr>\n",
       "    <tr>\n",
       "      <th>2</th>\n",
       "      <td>s1cc(CSCCNC(NC)=[NH]C#N)nc1[NH]=C(N)N</td>\n",
       "    </tr>\n",
       "    <tr>\n",
       "      <th>3</th>\n",
       "      <td>s1c(ncc1)CCN</td>\n",
       "    </tr>\n",
       "    <tr>\n",
       "      <th>4</th>\n",
       "      <td>S=P(N1CC1)(N2CC2)N3CC3</td>\n",
       "    </tr>\n",
       "    <tr>\n",
       "      <th>...</th>\n",
       "      <td>...</td>\n",
       "    </tr>\n",
       "    <tr>\n",
       "      <th>3600</th>\n",
       "      <td>[C@H]1(c2ccccc2)[N@]2[C@@H](NC1)NCC2</td>\n",
       "    </tr>\n",
       "    <tr>\n",
       "      <th>3601</th>\n",
       "      <td>[C@H]1([C@@H]2NCCCC2)OC(c2ccccc2)(c2ccccc2)OC1</td>\n",
       "    </tr>\n",
       "    <tr>\n",
       "      <th>3602</th>\n",
       "      <td>[C@H](CCC)(Cc1ccccc1)N1CCCC1</td>\n",
       "    </tr>\n",
       "    <tr>\n",
       "      <th>3603</th>\n",
       "      <td>[C@H](CCC)(CC)C</td>\n",
       "    </tr>\n",
       "    <tr>\n",
       "      <th>3604</th>\n",
       "      <td>[C@H](C)(n1c(C)ncc1)c1ccccc1</td>\n",
       "    </tr>\n",
       "  </tbody>\n",
       "</table>\n",
       "<p>3605 rows × 1 columns</p>\n",
       "</div>"
      ],
      "text/plain": [
       "                                              Compounds\n",
       "0     SCC(=O)[C@@]1(O)[C@@]2(C)[C@H]([C@H]3[C@H]([C@...\n",
       "1                                  s1cc(nc1[NH]=C(N)N)C\n",
       "2                 s1cc(CSCCNC(NC)=[NH]C#N)nc1[NH]=C(N)N\n",
       "3                                          s1c(ncc1)CCN\n",
       "4                                S=P(N1CC1)(N2CC2)N3CC3\n",
       "...                                                 ...\n",
       "3600               [C@H]1(c2ccccc2)[N@]2[C@@H](NC1)NCC2\n",
       "3601     [C@H]1([C@@H]2NCCCC2)OC(c2ccccc2)(c2ccccc2)OC1\n",
       "3602                       [C@H](CCC)(Cc1ccccc1)N1CCCC1\n",
       "3603                                    [C@H](CCC)(CC)C\n",
       "3604                       [C@H](C)(n1c(C)ncc1)c1ccccc1\n",
       "\n",
       "[3605 rows x 1 columns]"
      ]
     },
     "execution_count": 52,
     "metadata": {},
     "output_type": "execute_result"
    }
   ],
   "source": [
    "smi_df"
   ]
  },
  {
   "cell_type": "code",
   "execution_count": 53,
   "id": "ec59c9c2-267a-42e5-851b-0ca3bac80444",
   "metadata": {},
   "outputs": [],
   "source": [
    "smi_df.to_csv(\"smiles.smi\", header=None)"
   ]
  },
  {
   "cell_type": "code",
   "execution_count": 55,
   "id": "e493c1e5-3f47-4847-8b36-2bf162f1b81e",
   "metadata": {},
   "outputs": [
    {
     "data": {
      "text/html": [
       "<div>\n",
       "<style scoped>\n",
       "    .dataframe tbody tr th:only-of-type {\n",
       "        vertical-align: middle;\n",
       "    }\n",
       "\n",
       "    .dataframe tbody tr th {\n",
       "        vertical-align: top;\n",
       "    }\n",
       "\n",
       "    .dataframe thead th {\n",
       "        text-align: right;\n",
       "    }\n",
       "</style>\n",
       "<table border=\"1\" class=\"dataframe\">\n",
       "  <thead>\n",
       "    <tr style=\"text-align: right;\">\n",
       "      <th></th>\n",
       "      <th>SMILES</th>\n",
       "    </tr>\n",
       "  </thead>\n",
       "  <tbody>\n",
       "    <tr>\n",
       "      <th>0</th>\n",
       "      <td>SCC(=O)[C@@]1(O)[C@@]2(C)[C@H]([C@H]3[C@H]([C@...</td>\n",
       "    </tr>\n",
       "    <tr>\n",
       "      <th>1</th>\n",
       "      <td>s1cc(nc1[NH]=C(N)N)C</td>\n",
       "    </tr>\n",
       "    <tr>\n",
       "      <th>2</th>\n",
       "      <td>s1cc(CSCCNC(NC)=[NH]C#N)nc1[NH]=C(N)N</td>\n",
       "    </tr>\n",
       "    <tr>\n",
       "      <th>3</th>\n",
       "      <td>s1c(ncc1)CCN</td>\n",
       "    </tr>\n",
       "    <tr>\n",
       "      <th>4</th>\n",
       "      <td>S=P(N1CC1)(N2CC2)N3CC3</td>\n",
       "    </tr>\n",
       "    <tr>\n",
       "      <th>...</th>\n",
       "      <td>...</td>\n",
       "    </tr>\n",
       "    <tr>\n",
       "      <th>3600</th>\n",
       "      <td>[C@H]1(c2ccccc2)[N@]2[C@@H](NC1)NCC2</td>\n",
       "    </tr>\n",
       "    <tr>\n",
       "      <th>3601</th>\n",
       "      <td>[C@H]1([C@@H]2NCCCC2)OC(c2ccccc2)(c2ccccc2)OC1</td>\n",
       "    </tr>\n",
       "    <tr>\n",
       "      <th>3602</th>\n",
       "      <td>[C@H](CCC)(Cc1ccccc1)N1CCCC1</td>\n",
       "    </tr>\n",
       "    <tr>\n",
       "      <th>3603</th>\n",
       "      <td>[C@H](CCC)(CC)C</td>\n",
       "    </tr>\n",
       "    <tr>\n",
       "      <th>3604</th>\n",
       "      <td>[C@H](C)(n1c(C)ncc1)c1ccccc1</td>\n",
       "    </tr>\n",
       "  </tbody>\n",
       "</table>\n",
       "<p>3605 rows × 1 columns</p>\n",
       "</div>"
      ],
      "text/plain": [
       "                                                 SMILES\n",
       "0     SCC(=O)[C@@]1(O)[C@@]2(C)[C@H]([C@H]3[C@H]([C@...\n",
       "1                                  s1cc(nc1[NH]=C(N)N)C\n",
       "2                 s1cc(CSCCNC(NC)=[NH]C#N)nc1[NH]=C(N)N\n",
       "3                                          s1c(ncc1)CCN\n",
       "4                                S=P(N1CC1)(N2CC2)N3CC3\n",
       "...                                                 ...\n",
       "3600               [C@H]1(c2ccccc2)[N@]2[C@@H](NC1)NCC2\n",
       "3601     [C@H]1([C@@H]2NCCCC2)OC(c2ccccc2)(c2ccccc2)OC1\n",
       "3602                       [C@H](CCC)(Cc1ccccc1)N1CCCC1\n",
       "3603                                    [C@H](CCC)(CC)C\n",
       "3604                       [C@H](C)(n1c(C)ncc1)c1ccccc1\n",
       "\n",
       "[3605 rows x 1 columns]"
      ]
     },
     "execution_count": 55,
     "metadata": {},
     "output_type": "execute_result"
    }
   ],
   "source": [
    "pd.read_csv(\"/Users/alexwang/Downloads/smiles.smi\", header=None, names = ['SMILES'])"
   ]
  },
  {
   "cell_type": "code",
   "execution_count": 38,
   "id": "261d15c0-a89d-4f8c-aa84-8ba3f143b2a9",
   "metadata": {},
   "outputs": [
    {
     "data": {
      "text/html": [
       "<div>\n",
       "<style scoped>\n",
       "    .dataframe tbody tr th:only-of-type {\n",
       "        vertical-align: middle;\n",
       "    }\n",
       "\n",
       "    .dataframe tbody tr th {\n",
       "        vertical-align: top;\n",
       "    }\n",
       "\n",
       "    .dataframe thead th {\n",
       "        text-align: right;\n",
       "    }\n",
       "</style>\n",
       "<table border=\"1\" class=\"dataframe\">\n",
       "  <thead>\n",
       "    <tr style=\"text-align: right;\">\n",
       "      <th></th>\n",
       "      <th>SMILES</th>\n",
       "    </tr>\n",
       "  </thead>\n",
       "  <tbody>\n",
       "    <tr>\n",
       "      <th>0</th>\n",
       "      <td>[F]/C2=C/C=1ON=C(C=1C=C2)[C@@]5([H])CCN(CCC=4C...</td>\n",
       "    </tr>\n",
       "  </tbody>\n",
       "</table>\n",
       "</div>"
      ],
      "text/plain": [
       "                                              SMILES\n",
       "0  [F]/C2=C/C=1ON=C(C=1C=C2)[C@@]5([H])CCN(CCC=4C..."
      ]
     },
     "execution_count": 38,
     "metadata": {},
     "output_type": "execute_result"
    }
   ],
   "source": [
    "pd.read_csv(\"/Users/alexwang/Desktop/smiles.smi\", header=None, names = ['SMILES'])"
   ]
  },
  {
   "cell_type": "code",
   "execution_count": null,
   "id": "fe9e03d7-fc67-4bae-95c2-dfe33fd4a919",
   "metadata": {},
   "outputs": [],
   "source": []
  }
 ],
 "metadata": {
  "kernelspec": {
   "display_name": "Python 3 (ipykernel)",
   "language": "python",
   "name": "python3"
  },
  "language_info": {
   "codemirror_mode": {
    "name": "ipython",
    "version": 3
   },
   "file_extension": ".py",
   "mimetype": "text/x-python",
   "name": "python",
   "nbconvert_exporter": "python",
   "pygments_lexer": "ipython3",
   "version": "3.11.7"
  }
 },
 "nbformat": 4,
 "nbformat_minor": 5
}
