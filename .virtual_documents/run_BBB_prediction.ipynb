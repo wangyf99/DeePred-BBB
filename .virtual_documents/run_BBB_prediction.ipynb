!python DeePred-BBB_Script.py


import pandas as pd


pip install h5py


import h5py
with h5py.File("DeePredmodel.h5", "r") as f:
    def printname(name):
        print(name)
    f.visit(printname)





import pandas as pd


DeePred_BBB_df = pd.DataFrame([["folic acid", "CHEMBL1622"],
                              ["paracetamol", "CHEMBL112"]], columns = ["Name", "ChEMBL"])


DeePred_BBB_df.to_csv("PaDEL_features.csv")


df = pd.read_csv("smiles.smi", header=None, names = ['SMILES'])


df.iloc[0, 0]


df = pd.read_excel('Table 1.xlsx')
df


smi_column = df['Compounds']
smi_column


smi_column


smi_df = pd.DataFrame(smi_column)


smi_df


smi_df.to_csv("smiles.smi", header=None, index = False)


pd.read_csv("/Users/alexwang/Documents/GitHub/DeePred-BBB/smiles.smi") #, header=None, names = ['SMILES'])


pd.read_csv("/Users/alexwang/Desktop/smiles.smi") #, header=None, names = ['SMILES'])


smi_df



