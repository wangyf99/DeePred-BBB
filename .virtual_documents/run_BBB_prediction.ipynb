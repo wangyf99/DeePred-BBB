!python DeePred-BBB_Script.py


import pandas as pd


DeePred_BBB_df = pd.DataFrame([["folic acid", "CHEMBL1622"],
                              ["paracetamol", "CHEMBL112"]], columns = ["Name", "ChEMBL"])


DeePred_BBB_df.to_csv("PaDEL_features.csv")


pd.read_csv("smiles.smi")



